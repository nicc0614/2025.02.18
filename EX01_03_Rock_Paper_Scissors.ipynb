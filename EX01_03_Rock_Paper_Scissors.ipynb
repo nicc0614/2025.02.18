{
  "nbformat": 4,
  "nbformat_minor": 0,
  "metadata": {
    "colab": {
      "provenance": [],
      "authorship_tag": "ABX9TyNqLb325LGmFW0TGcvjxKvb",
      "include_colab_link": true
    },
    "kernelspec": {
      "name": "python3",
      "display_name": "Python 3"
    },
    "language_info": {
      "name": "python"
    }
  },
  "cells": [
    {
      "cell_type": "markdown",
      "metadata": {
        "id": "view-in-github",
        "colab_type": "text"
      },
      "source": [
        "<a href=\"https://colab.research.google.com/github/nicc0614/2025.02.18/blob/main/EX01_03_Rock_Paper_Scissors.ipynb\" target=\"_parent\"><img src=\"https://colab.research.google.com/assets/colab-badge.svg\" alt=\"Open In Colab\"/></a>"
      ]
    },
    {
      "cell_type": "code",
      "execution_count": 5,
      "metadata": {
        "colab": {
          "base_uri": "https://localhost:8080/"
        },
        "id": "_xd0Cz60M46N",
        "outputId": "d63e8530-4fe7-443a-bb5f-86db9df237c8"
      },
      "outputs": [
        {
          "output_type": "stream",
          "name": "stdout",
          "text": [
            "0\n",
            "computer: 0\n",
            "draw\n"
          ]
        }
      ],
      "source": [
        "import random\n",
        "ply=int(input())\n",
        "cmp=random.choice([0,2,5])\n",
        "print('computer:',cmp)\n",
        "if ply == cmp:\n",
        "  print('draw')\n",
        "elif (ply==0 and cmp==2) or (ply==2 and cmp==5) or (ply==5 and cmp==0):\n",
        "  print('you wins')\n",
        "else:\n",
        "  print('you lose')"
      ]
    }
  ]
}