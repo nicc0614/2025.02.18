{
  "nbformat": 4,
  "nbformat_minor": 0,
  "metadata": {
    "colab": {
      "provenance": [],
      "authorship_tag": "ABX9TyMGgKR//g2sJFwMGOssi9AQ",
      "include_colab_link": true
    },
    "kernelspec": {
      "name": "python3",
      "display_name": "Python 3"
    },
    "language_info": {
      "name": "python"
    }
  },
  "cells": [
    {
      "cell_type": "markdown",
      "metadata": {
        "id": "view-in-github",
        "colab_type": "text"
      },
      "source": [
        "<a href=\"https://colab.research.google.com/github/nicc0614/2025.02.18/blob/main/EX01_04_%E7%B5%82%E6%A5%B5%E5%AF%86%E7%A2%BC.ipynb\" target=\"_parent\"><img src=\"https://colab.research.google.com/assets/colab-badge.svg\" alt=\"Open In Colab\"/></a>"
      ]
    },
    {
      "cell_type": "code",
      "execution_count": 15,
      "metadata": {
        "id": "YgKM9S5b30Th",
        "colab": {
          "base_uri": "https://localhost:8080/"
        },
        "outputId": "7b02925c-7811-47a7-adb5-ef1ee640b9fd"
      },
      "outputs": [
        {
          "output_type": "stream",
          "name": "stdout",
          "text": [
            "0 - 100\n",
            "guess:46\n",
            "46 - 100\n",
            "guess:88\n",
            "46 - 88\n",
            "guess:90\n",
            "超過範圍\n",
            "46 - 88\n",
            "guess:52\n",
            "46 - 52\n",
            "guess:50\n",
            "46 - 50\n",
            "guess:47\n",
            "47 - 50\n",
            "guess:49\n",
            "猜中\n"
          ]
        }
      ],
      "source": [
        "import random\n",
        "bomb = random.randint(1,99)\n",
        "\n",
        "lf=0\n",
        "rt=100\n",
        "\n",
        "while True:\n",
        "     print(lf,'-',rt)\n",
        "     gu=int(input('guess:'))\n",
        "     #超過範圍\n",
        "     if gu<= lf or gu>=rt:\n",
        "      print('超過範圍')\n",
        "      continue\n",
        "     #比炸彈小\n",
        "     elif gu<bomb:\n",
        "      lf=gu\n",
        "     #比炸彈大\n",
        "     elif gu>bomb:\n",
        "      rt=gu\n",
        "     else:\n",
        "      print('猜中')\n",
        "      break\n"
      ]
    }
  ]
}