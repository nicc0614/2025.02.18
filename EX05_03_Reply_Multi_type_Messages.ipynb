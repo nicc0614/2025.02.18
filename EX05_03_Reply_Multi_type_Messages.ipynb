{
  "nbformat": 4,
  "nbformat_minor": 0,
  "metadata": {
    "colab": {
      "provenance": [],
      "authorship_tag": "ABX9TyOXonu6p7pYlfzpyWDWZvKe",
      "include_colab_link": true
    },
    "kernelspec": {
      "name": "python3",
      "display_name": "Python 3"
    },
    "language_info": {
      "name": "python"
    }
  },
  "cells": [
    {
      "cell_type": "markdown",
      "metadata": {
        "id": "view-in-github",
        "colab_type": "text"
      },
      "source": [
        "<a href=\"https://colab.research.google.com/github/nicc0614/2025.02.18/blob/main/EX05_03_Reply_Multi_type_Messages.ipynb\" target=\"_parent\"><img src=\"https://colab.research.google.com/assets/colab-badge.svg\" alt=\"Open In Colab\"/></a>"
      ]
    },
    {
      "cell_type": "code",
      "execution_count": 2,
      "metadata": {
        "colab": {
          "base_uri": "https://localhost:8080/"
        },
        "id": "YVMMsnhtgKx3",
        "outputId": "742142d3-5bef-4c30-8c9a-e740f08f5d26"
      },
      "outputs": [
        {
          "output_type": "stream",
          "name": "stdout",
          "text": [
            "Collecting line-bot-sdk\n",
            "  Downloading line_bot_sdk-3.17.1-py2.py3-none-any.whl.metadata (13 kB)\n",
            "Requirement already satisfied: requests<3,>=2.32.3 in /usr/local/lib/python3.11/dist-packages (from line-bot-sdk) (2.32.3)\n",
            "Requirement already satisfied: urllib3<3,>=2.0.5 in /usr/local/lib/python3.11/dist-packages (from line-bot-sdk) (2.4.0)\n",
            "Requirement already satisfied: aiohttp<4,>=3.10.9 in /usr/local/lib/python3.11/dist-packages (from line-bot-sdk) (3.11.15)\n",
            "Requirement already satisfied: future>=1.0.0 in /usr/local/lib/python3.11/dist-packages (from line-bot-sdk) (1.0.0)\n",
            "Requirement already satisfied: pydantic<3,>=2.0.3 in /usr/local/lib/python3.11/dist-packages (from line-bot-sdk) (2.11.4)\n",
            "Collecting aenum<4,>=3.1.11 (from line-bot-sdk)\n",
            "  Downloading aenum-3.1.16-py3-none-any.whl.metadata (3.8 kB)\n",
            "Requirement already satisfied: python_dateutil<3,>=2.5.3 in /usr/local/lib/python3.11/dist-packages (from line-bot-sdk) (2.9.0.post0)\n",
            "Requirement already satisfied: Deprecated>=1.2.18 in /usr/local/lib/python3.11/dist-packages (from line-bot-sdk) (1.2.18)\n",
            "Requirement already satisfied: aiohappyeyeballs>=2.3.0 in /usr/local/lib/python3.11/dist-packages (from aiohttp<4,>=3.10.9->line-bot-sdk) (2.6.1)\n",
            "Requirement already satisfied: aiosignal>=1.1.2 in /usr/local/lib/python3.11/dist-packages (from aiohttp<4,>=3.10.9->line-bot-sdk) (1.3.2)\n",
            "Requirement already satisfied: attrs>=17.3.0 in /usr/local/lib/python3.11/dist-packages (from aiohttp<4,>=3.10.9->line-bot-sdk) (25.3.0)\n",
            "Requirement already satisfied: frozenlist>=1.1.1 in /usr/local/lib/python3.11/dist-packages (from aiohttp<4,>=3.10.9->line-bot-sdk) (1.6.0)\n",
            "Requirement already satisfied: multidict<7.0,>=4.5 in /usr/local/lib/python3.11/dist-packages (from aiohttp<4,>=3.10.9->line-bot-sdk) (6.4.3)\n",
            "Requirement already satisfied: propcache>=0.2.0 in /usr/local/lib/python3.11/dist-packages (from aiohttp<4,>=3.10.9->line-bot-sdk) (0.3.1)\n",
            "Requirement already satisfied: yarl<2.0,>=1.17.0 in /usr/local/lib/python3.11/dist-packages (from aiohttp<4,>=3.10.9->line-bot-sdk) (1.20.0)\n",
            "Requirement already satisfied: wrapt<2,>=1.10 in /usr/local/lib/python3.11/dist-packages (from Deprecated>=1.2.18->line-bot-sdk) (1.17.2)\n",
            "Requirement already satisfied: annotated-types>=0.6.0 in /usr/local/lib/python3.11/dist-packages (from pydantic<3,>=2.0.3->line-bot-sdk) (0.7.0)\n",
            "Requirement already satisfied: pydantic-core==2.33.2 in /usr/local/lib/python3.11/dist-packages (from pydantic<3,>=2.0.3->line-bot-sdk) (2.33.2)\n",
            "Requirement already satisfied: typing-extensions>=4.12.2 in /usr/local/lib/python3.11/dist-packages (from pydantic<3,>=2.0.3->line-bot-sdk) (4.13.2)\n",
            "Requirement already satisfied: typing-inspection>=0.4.0 in /usr/local/lib/python3.11/dist-packages (from pydantic<3,>=2.0.3->line-bot-sdk) (0.4.0)\n",
            "Requirement already satisfied: six>=1.5 in /usr/local/lib/python3.11/dist-packages (from python_dateutil<3,>=2.5.3->line-bot-sdk) (1.17.0)\n",
            "Requirement already satisfied: charset-normalizer<4,>=2 in /usr/local/lib/python3.11/dist-packages (from requests<3,>=2.32.3->line-bot-sdk) (3.4.1)\n",
            "Requirement already satisfied: idna<4,>=2.5 in /usr/local/lib/python3.11/dist-packages (from requests<3,>=2.32.3->line-bot-sdk) (3.10)\n",
            "Requirement already satisfied: certifi>=2017.4.17 in /usr/local/lib/python3.11/dist-packages (from requests<3,>=2.32.3->line-bot-sdk) (2025.4.26)\n",
            "Downloading line_bot_sdk-3.17.1-py2.py3-none-any.whl (776 kB)\n",
            "\u001b[2K   \u001b[90m━━━━━━━━━━━━━━━━━━━━━━━━━━━━━━━━━━━━━━━━\u001b[0m \u001b[32m776.1/776.1 kB\u001b[0m \u001b[31m8.8 MB/s\u001b[0m eta \u001b[36m0:00:00\u001b[0m\n",
            "\u001b[?25hDownloading aenum-3.1.16-py3-none-any.whl (165 kB)\n",
            "\u001b[2K   \u001b[90m━━━━━━━━━━━━━━━━━━━━━━━━━━━━━━━━━━━━━━━━\u001b[0m \u001b[32m165.6/165.6 kB\u001b[0m \u001b[31m6.0 MB/s\u001b[0m eta \u001b[36m0:00:00\u001b[0m\n",
            "\u001b[?25hInstalling collected packages: aenum, line-bot-sdk\n",
            "Successfully installed aenum-3.1.16 line-bot-sdk-3.17.1\n",
            "Requirement already satisfied: flask in /usr/local/lib/python3.11/dist-packages (3.1.0)\n",
            "Requirement already satisfied: Werkzeug>=3.1 in /usr/local/lib/python3.11/dist-packages (from flask) (3.1.3)\n",
            "Requirement already satisfied: Jinja2>=3.1.2 in /usr/local/lib/python3.11/dist-packages (from flask) (3.1.6)\n",
            "Requirement already satisfied: itsdangerous>=2.2 in /usr/local/lib/python3.11/dist-packages (from flask) (2.2.0)\n",
            "Requirement already satisfied: click>=8.1.3 in /usr/local/lib/python3.11/dist-packages (from flask) (8.1.8)\n",
            "Requirement already satisfied: blinker>=1.9 in /usr/local/lib/python3.11/dist-packages (from flask) (1.9.0)\n",
            "Requirement already satisfied: MarkupSafe>=2.0 in /usr/local/lib/python3.11/dist-packages (from Jinja2>=3.1.2->flask) (3.0.2)\n",
            "Collecting pyngrok\n",
            "  Downloading pyngrok-7.2.7-py3-none-any.whl.metadata (9.4 kB)\n",
            "Requirement already satisfied: PyYAML>=5.1 in /usr/local/lib/python3.11/dist-packages (from pyngrok) (6.0.2)\n",
            "Downloading pyngrok-7.2.7-py3-none-any.whl (23 kB)\n",
            "Installing collected packages: pyngrok\n",
            "Successfully installed pyngrok-7.2.7\n",
            "Collecting flask_ngrok\n",
            "  Downloading flask_ngrok-0.0.25-py3-none-any.whl.metadata (1.8 kB)\n",
            "Requirement already satisfied: Flask>=0.8 in /usr/local/lib/python3.11/dist-packages (from flask_ngrok) (3.1.0)\n",
            "Requirement already satisfied: requests in /usr/local/lib/python3.11/dist-packages (from flask_ngrok) (2.32.3)\n",
            "Requirement already satisfied: Werkzeug>=3.1 in /usr/local/lib/python3.11/dist-packages (from Flask>=0.8->flask_ngrok) (3.1.3)\n",
            "Requirement already satisfied: Jinja2>=3.1.2 in /usr/local/lib/python3.11/dist-packages (from Flask>=0.8->flask_ngrok) (3.1.6)\n",
            "Requirement already satisfied: itsdangerous>=2.2 in /usr/local/lib/python3.11/dist-packages (from Flask>=0.8->flask_ngrok) (2.2.0)\n",
            "Requirement already satisfied: click>=8.1.3 in /usr/local/lib/python3.11/dist-packages (from Flask>=0.8->flask_ngrok) (8.1.8)\n",
            "Requirement already satisfied: blinker>=1.9 in /usr/local/lib/python3.11/dist-packages (from Flask>=0.8->flask_ngrok) (1.9.0)\n",
            "Requirement already satisfied: charset-normalizer<4,>=2 in /usr/local/lib/python3.11/dist-packages (from requests->flask_ngrok) (3.4.1)\n",
            "Requirement already satisfied: idna<4,>=2.5 in /usr/local/lib/python3.11/dist-packages (from requests->flask_ngrok) (3.10)\n",
            "Requirement already satisfied: urllib3<3,>=1.21.1 in /usr/local/lib/python3.11/dist-packages (from requests->flask_ngrok) (2.4.0)\n",
            "Requirement already satisfied: certifi>=2017.4.17 in /usr/local/lib/python3.11/dist-packages (from requests->flask_ngrok) (2025.4.26)\n",
            "Requirement already satisfied: MarkupSafe>=2.0 in /usr/local/lib/python3.11/dist-packages (from Jinja2>=3.1.2->Flask>=0.8->flask_ngrok) (3.0.2)\n",
            "Downloading flask_ngrok-0.0.25-py3-none-any.whl (3.1 kB)\n",
            "Installing collected packages: flask_ngrok\n",
            "Successfully installed flask_ngrok-0.0.25\n"
          ]
        }
      ],
      "source": [
        "!pip install line-bot-sdk\n",
        "!pip install flask\n",
        "!pip install pyngrok\n",
        "!pip install flask_ngrok"
      ]
    },
    {
      "cell_type": "code",
      "source": [
        "#colab專用\n",
        "from google.colab import userdata\n",
        "from pyngrok import ngrok\n",
        "from flask_ngrok import run_with_ngrok\n",
        "\n",
        "def ngrok_start():\n",
        "  ngrok.set_auth_token(userdata.get('ngrok_authtoken'))\n",
        "  ngrok.connect(5000)\n",
        "  run_with_ngrok(app)"
      ],
      "metadata": {
        "id": "SkMHdM5NgWOB"
      },
      "execution_count": 3,
      "outputs": []
    },
    {
      "cell_type": "code",
      "source": [
        "from flask import Flask, request, abort\n",
        "\n",
        "from linebot.v3 import (\n",
        "    WebhookHandler\n",
        ")\n",
        "from linebot.v3.exceptions import (\n",
        "    InvalidSignatureError\n",
        ")\n",
        "\n",
        "from linebot.v3.messaging import (\n",
        "    Configuration,\n",
        "    ApiClient,\n",
        "    MessagingApi,\n",
        "    ReplyMessageRequest,#回覆訊息\n",
        "    TextMessage,#文字訊息\n",
        "    StickerMessage,#貼圖訊息\n",
        "    ImageMessage,#圖片訊息\n",
        "    VideoMessage,#影片訊息\n",
        "    LocationMessage#地圖訊息\n",
        ")\n",
        "#通知有人傳文字訊息\n",
        "from linebot.v3.webhooks import (\n",
        "    MessageEvent,\n",
        "    TextMessageContent\n",
        ")\n",
        "\n",
        "app = Flask(__name__)\n",
        "\n",
        "configuration = Configuration(access_token=userdata.get('Line_channel_token'))\n",
        "handler = WebhookHandler(userdata.get('line_channel_secret'))\n",
        "\n",
        "#路由\n",
        "@app.route(\"/callback\", methods=['POST'])\n",
        "def callback():\n",
        "    # get X-Line-Signature header value\n",
        "    signature = request.headers['X-Line-Signature']\n",
        "\n",
        "    # get request body as text\n",
        "    body = request.get_data(as_text=True) #line平台傳來的訊息\n",
        "    app.logger.info(\"Request body: \" + body)\n",
        "\n",
        "    # handle webhook body\n",
        "    try:\n",
        "        handler.handle(body, signature)\n",
        "    except InvalidSignatureError: #如果發生錯誤\n",
        "        app.logger.info(\"Invalid signature. Please check your channel access token/channel secret.\")\n",
        "        abort(400)\n",
        "\n",
        "    return 'OK'\n",
        "\n",
        "#詢問gemini\n",
        "from google.colab import userdata\n",
        "import google.generativeai as genai\n",
        "genai.configure(api_key=userdata.get(\"google_API_KEY\"))\n",
        "model = genai.GenerativeModel(\"gemini-2.0-flash-exp\")\n",
        "def ask_gemini(question):\n",
        "  response = model.generate_content(question)\n",
        "  return response.text\n",
        "\n",
        "#如果收到MessageEvent就做下面的事\n",
        "@handler.add(MessageEvent, message=TextMessageContent)\n",
        "def handle_message(event):\n",
        "    with ApiClient(configuration) as api_client:\n",
        "        line_bot_api = MessagingApi(api_client)\n",
        "        action = event.message.text\n",
        "        if action =='sticker':\n",
        "          #回覆貼圖\n",
        "          reply = StickerMessage(\n",
        "              package_id='446',\n",
        "              sticker_id='1989'\n",
        ")\n",
        "        elif action =='image':\n",
        "          #回覆圖片\n",
        "          reply = ImageMessage(\n",
        "              original_content_url='https://rpb206.nsysu.edu.tw/static/file/369/1369/randimg/mobileadv_6184_9270778_90311.jpg',\n",
        "              preview_image_url='https://rpb206.nsysu.edu.tw/static/file/369/1369/randimg/mobileadv_6184_9270778_90311.jpg'\n",
        ")\n",
        "        elif action =='video':\n",
        "          #回覆影片\n",
        "          reply = VideoMessage(\n",
        "              original_content_url='https://youtu.be/Vh7dVfQLdAs',\n",
        "              preview_image_url='https://youtu.be/Vh7dVfQLdAs'\n",
        ")\n",
        "        elif action =='location':\n",
        "          #回覆位置\n",
        "          reply = LocationMessage(\n",
        "              title=\"國立中山大學\",\n",
        "              address=\"804高雄市鼓山區蓮海路70號\",\n",
        "              latitude=22.628883060093656,\n",
        "              longitude=120.26457969592747\n",
        ")\n",
        "        else:\n",
        "          response = ask_gemini(action)\n",
        "          reply = TextMessage(text=response)#回覆文字訊息\n",
        "\n",
        "        line_bot_api.reply_message(\n",
        "            ReplyMessageRequest(\n",
        "                reply_token=event.reply_token,\n",
        "                messages=[reply]\n",
        "            )\n",
        "        )\n",
        "#colab專用\n",
        "ngrok_start()\n",
        "if __name__ == \"__main__\":\n",
        "    app.run()"
      ],
      "metadata": {
        "colab": {
          "base_uri": "https://localhost:8080/",
          "height": 243
        },
        "id": "9GdDgtOjgbVC",
        "outputId": "34451dcb-5e70-4531-c8e5-c54188a9fc6f"
      },
      "execution_count": 7,
      "outputs": [
        {
          "output_type": "stream",
          "name": "stdout",
          "text": [
            " * Serving Flask app '__main__'\n",
            " * Debug mode: off\n"
          ]
        },
        {
          "output_type": "stream",
          "name": "stderr",
          "text": [
            "INFO:werkzeug:\u001b[31m\u001b[1mWARNING: This is a development server. Do not use it in a production deployment. Use a production WSGI server instead.\u001b[0m\n",
            " * Running on http://127.0.0.1:5000\n",
            "INFO:werkzeug:\u001b[33mPress CTRL+C to quit\u001b[0m\n"
          ]
        },
        {
          "output_type": "stream",
          "name": "stdout",
          "text": [
            " * Running on http://fa14-34-80-141-228.ngrok-free.app\n",
            " * Traffic stats available on http://127.0.0.1:4040\n"
          ]
        },
        {
          "output_type": "stream",
          "name": "stderr",
          "text": [
            "INFO:werkzeug:127.0.0.1 - - [06/May/2025 09:57:04] \"POST /callback HTTP/1.1\" 200 -\n",
            "INFO:werkzeug:127.0.0.1 - - [06/May/2025 09:57:15] \"POST /callback HTTP/1.1\" 200 -\n",
            "INFO:werkzeug:127.0.0.1 - - [06/May/2025 09:57:20] \"POST /callback HTTP/1.1\" 200 -\n",
            "INFO:werkzeug:127.0.0.1 - - [06/May/2025 09:57:25] \"POST /callback HTTP/1.1\" 200 -\n",
            "INFO:werkzeug:127.0.0.1 - - [06/May/2025 09:57:44] \"POST /callback HTTP/1.1\" 200 -\n",
            "INFO:werkzeug:127.0.0.1 - - [06/May/2025 09:57:51] \"POST /callback HTTP/1.1\" 200 -\n"
          ]
        }
      ]
    }
  ]
}