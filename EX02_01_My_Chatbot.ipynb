{
  "nbformat": 4,
  "nbformat_minor": 0,
  "metadata": {
    "colab": {
      "provenance": [],
      "authorship_tag": "ABX9TyOb94Vg+t7Yex1OKJOifMpy",
      "include_colab_link": true
    },
    "kernelspec": {
      "name": "python3",
      "display_name": "Python 3"
    },
    "language_info": {
      "name": "python"
    }
  },
  "cells": [
    {
      "cell_type": "markdown",
      "metadata": {
        "id": "view-in-github",
        "colab_type": "text"
      },
      "source": [
        "<a href=\"https://colab.research.google.com/github/nicc0614/2025.02.18/blob/main/EX02_01_My_Chatbot.ipynb\" target=\"_parent\"><img src=\"https://colab.research.google.com/assets/colab-badge.svg\" alt=\"Open In Colab\"/></a>"
      ]
    },
    {
      "cell_type": "code",
      "execution_count": 2,
      "metadata": {
        "id": "2d5HvihMSJka"
      },
      "outputs": [],
      "source": [
        "from google.colab import userdata\n",
        "import google.generativeai as genai\n",
        "genai.configure(api_key=userdata.get('google_API_KEY'))\n",
        "generation_config = {\n",
        "    \"temperature\":1,\n",
        "    \"max_output_tokens\":1280\n",
        "}\n",
        "model = genai.GenerativeModel(\n",
        "    model_name=\"gemini-2.0-flash\",\n",
        "    generation_config=generation_config\n",
        ")"
      ]
    },
    {
      "cell_type": "code",
      "source": [
        "from IPython.display import Markdown, display\n",
        "chat = model.start_chat(history=[])\n",
        "\n",
        "while True:\n",
        "  message = input('You:')\n",
        "  if message == 'bye!':\n",
        "    break\n",
        "  response = chat.send_message(message)\n",
        "  print('Bot:')\n",
        "  display(Markdown(response.text))\n"
      ],
      "metadata": {
        "id": "0JSbR27_TX86",
        "colab": {
          "base_uri": "https://localhost:8080/",
          "height": 1000
        },
        "outputId": "a1d2c833-942d-4edf-ad05-21cd06b9683a"
      },
      "execution_count": 3,
      "outputs": [
        {
          "output_type": "stream",
          "name": "stdout",
          "text": [
            "You:hi\n",
            "Bot:\n"
          ]
        },
        {
          "output_type": "display_data",
          "data": {
            "text/plain": [
              "<IPython.core.display.Markdown object>"
            ],
            "text/markdown": "Hi there! How can I help you today?\n"
          },
          "metadata": {}
        },
        {
          "output_type": "stream",
          "name": "stdout",
          "text": [
            "You:who are you\n",
            "Bot:\n"
          ]
        },
        {
          "output_type": "display_data",
          "data": {
            "text/plain": [
              "<IPython.core.display.Markdown object>"
            ],
            "text/markdown": "I am a large language model, trained by Google.\n"
          },
          "metadata": {}
        },
        {
          "output_type": "stream",
          "name": "stdout",
          "text": [
            "You:how ai work\n",
            "Bot:\n"
          ]
        },
        {
          "output_type": "display_data",
          "data": {
            "text/plain": [
              "<IPython.core.display.Markdown object>"
            ],
            "text/markdown": "Okay, that's a big question! Let's break down how AI works in a simplified way. Essentially, AI works by mimicking human intelligence processes to solve problems or perform tasks. Here's a breakdown of key concepts:\n\n**1. Data:**\n\n*   **Fuel for the Machine:** AI relies heavily on data. The more data, the better the AI can learn and improve. This data can be anything: text, images, audio, numbers, sensor readings, etc.\n*   **Training Data:** A large portion of this data is used for \"training\" the AI model. Think of it like showing a student lots of examples so they can learn a concept.\n\n**2. Algorithms (The Instructions):**\n\n*   **Rules and Recipes:** Algorithms are sets of rules or instructions that tell the AI how to process the data and make decisions. Different algorithms are suited for different tasks.\n*   **Examples:**\n    *   **Sorting Algorithm:**  Sorting a list of numbers from smallest to largest.\n    *   **Classification Algorithm:** Categorizing emails as spam or not spam.\n    *   **Regression Algorithm:** Predicting house prices based on size and location.\n\n**3. Machine Learning (Learning from Data):**\n\n*   **The Core of AI:** Machine learning is the most common approach to AI.  Instead of explicitly programming the AI to do everything, you let it learn from the data.\n*   **Types of Machine Learning:**\n    *   **Supervised Learning:** The AI is trained on labeled data. You provide both the input and the correct output.  For example, you show the AI many pictures of cats and dogs, labeled as \"cat\" or \"dog.\"  The AI learns to associate features (like pointy ears or a wagging tail) with the correct label.  This is used for things like image recognition and spam filtering.\n    *   **Unsupervised Learning:** The AI is trained on unlabeled data. It has to find patterns and structures in the data on its own. For example, grouping customers into different segments based on their purchasing behavior. This is used for things like customer segmentation and anomaly detection.\n    *   **Reinforcement Learning:** The AI learns by trial and error in an environment. It receives rewards for good actions and penalties for bad actions. Think of training a dog with treats. This is used for things like game playing (like AlphaGo), robotics, and recommendation systems.\n\n**4. Neural Networks (Inspired by the Brain):**\n\n*   **Interconnected Nodes:** Neural networks are a type of machine learning model inspired by the structure of the human brain. They consist of layers of interconnected nodes (neurons) that process and transmit information.\n*   **Deep Learning:**  Neural networks with many layers are called \"deep learning\" models. Deep learning is particularly good at handling complex patterns and large amounts of data. This is used for things like image recognition, natural language processing, and speech recognition.\n\n**5. Training and Inference:**\n\n*   **Training Phase:** This is where the AI model learns from the data. The algorithm adjusts its internal parameters to improve its performance.  This often involves a lot of computation.\n*   **Inference Phase:**  Once the AI is trained, it can be used to make predictions or decisions on new, unseen data. This is the \"real-world\" application.\n\n**Here's an analogy: Baking a Cake**\n\n*   **Data:**  The recipe, including the ingredients (flour, sugar, eggs, etc.) and their proportions.  Also, examples of successful (and maybe unsuccessful) cakes you've baked before.\n*   **Algorithm:** The baking instructions (e.g., \"Mix the flour and sugar,\" \"Bake at 350 degrees for 30 minutes\").\n*   **Machine Learning:**  Each time you bake a cake, you learn something (e.g., \"Adding more sugar makes it sweeter,\" \"Baking it for longer makes it drier\").  You adjust the recipe based on your experience to improve future cakes.\n*   **Neural Network:** Think of the various steps in baking (mixing, whisking, folding) as different layers of processing. Each layer contributes to the final outcome (the cake).\n*   **Training:** Baking many cakes and adjusting the recipe until you consistently bake a delicious cake.\n*   **Inference:**  Baking a cake for a friend using your learned recipe.\n\n**Simplified Example: Spam Filtering**\n\n1.  **Data:** A collection of emails, some labeled as \"spam\" and others as \"not spam.\"\n2.  **Algorithm:** A classification algorithm designed to identify patterns that distinguish spam from legitimate emails.\n3.  **Machine Learning:** The algorithm analyzes the emails, looking for keywords (like \"viagra\" or \"free money\"), sender addresses, and other features. It learns which patterns are most strongly associated with spam.\n4.  **Training:** The algorithm is trained on the labeled emails, adjusting its internal parameters to improve its accuracy in identifying spam.\n5.  **Inference:** When a new email arrives, the algorithm analyzes it and predicts whether it is spam or not.\n\n**Key Takeaways:**\n\n*   AI is about making computers perform tasks that typically require human intelligence.\n*   Data is essential for AI to learn.\n*   Machine learning is a key technique for enabling AI to learn from data.\n*   Different algorithms are suited for different tasks.\n*   Neural networks are a powerful type of machine learning model, especially for complex problems.\n\nThis is a simplified overview, but hopefully it gives you a better understanding of how AI works. Is there any specific aspect of AI you'd like to know more about? For example, I could explain more about different types of machine learning algorithms, or the challenges of training AI models.\n"
          },
          "metadata": {}
        },
        {
          "name": "stdout",
          "output_type": "stream",
          "text": [
            "You:bye!\n"
          ]
        }
      ]
    }
  ]
}