{
  "nbformat": 4,
  "nbformat_minor": 0,
  "metadata": {
    "colab": {
      "provenance": [],
      "authorship_tag": "ABX9TyO+Hd7S5ScvYMzoe8bCsZvP",
      "include_colab_link": true
    },
    "kernelspec": {
      "name": "python3",
      "display_name": "Python 3"
    },
    "language_info": {
      "name": "python"
    }
  },
  "cells": [
    {
      "cell_type": "markdown",
      "metadata": {
        "id": "view-in-github",
        "colab_type": "text"
      },
      "source": [
        "<a href=\"https://colab.research.google.com/github/nicc0614/2025.02.18/blob/main/EX01_04_%E7%B5%82%E6%A5%B5%E5%AF%86%E7%A2%BC.ipynb\" target=\"_parent\"><img src=\"https://colab.research.google.com/assets/colab-badge.svg\" alt=\"Open In Colab\"/></a>"
      ]
    },
    {
      "cell_type": "code",
      "execution_count": 1,
      "metadata": {
        "colab": {
          "base_uri": "https://localhost:8080/"
        },
        "id": "IEG-1C1zLKOX",
        "outputId": "c12fbba6-e4a9-4bd0-f115-29ba1e00d19d"
      },
      "outputs": [
        {
          "output_type": "stream",
          "name": "stdout",
          "text": [
            "0 - 100\n",
            "guess:50\n",
            "0 - 50\n",
            "guess:66\n",
            "超過範圍\n",
            "0 - 50\n",
            "guess:35\n",
            "0 - 35\n",
            "guess:20\n",
            "20 - 35\n",
            "guess:28\n",
            "20 - 28\n",
            "guess:26\n",
            "20 - 26\n",
            "guess:23\n",
            "猜中\n"
          ]
        }
      ],
      "source": [
        "import random\n",
        "bomb = random.randint(1,99)\n",
        "\n",
        "lf = 0\n",
        "rt = 100\n",
        "\n",
        "while True:\n",
        "     print(lf,'-',rt)\n",
        "     gu = int(input('guess:'))\n",
        "     #超過範圍\n",
        "     if gu <= lf or gu >= rt:\n",
        "      print('超過範圍')\n",
        "      continue\n",
        "     #比炸彈小\n",
        "     elif gu < bomb:\n",
        "      lf = gu\n",
        "     #比炸彈大\n",
        "     elif gu > bomb:\n",
        "      rt = gu\n",
        "     else:\n",
        "      print('猜中')\n",
        "      break"
      ]
    }
  ]
}