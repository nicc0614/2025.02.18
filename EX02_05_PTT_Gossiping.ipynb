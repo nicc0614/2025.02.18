{
  "nbformat": 4,
  "nbformat_minor": 0,
  "metadata": {
    "colab": {
      "provenance": [],
      "authorship_tag": "ABX9TyMQfY+hyWz8AUmyR5qjm245",
      "include_colab_link": true
    },
    "kernelspec": {
      "name": "python3",
      "display_name": "Python 3"
    },
    "language_info": {
      "name": "python"
    }
  },
  "cells": [
    {
      "cell_type": "markdown",
      "metadata": {
        "id": "view-in-github",
        "colab_type": "text"
      },
      "source": [
        "<a href=\"https://colab.research.google.com/github/nicc0614/2025.02.18/blob/main/EX02_05_PTT_Gossiping.ipynb\" target=\"_parent\"><img src=\"https://colab.research.google.com/assets/colab-badge.svg\" alt=\"Open In Colab\"/></a>"
      ]
    },
    {
      "cell_type": "code",
      "execution_count": 1,
      "metadata": {
        "colab": {
          "base_uri": "https://localhost:8080/"
        },
        "id": "8Sf7yR4S-Aps",
        "outputId": "4e68acf7-d45a-4b7e-a1e4-5017eed45165"
      },
      "outputs": [
        {
          "output_type": "execute_result",
          "data": {
            "text/plain": [
              "200"
            ]
          },
          "metadata": {},
          "execution_count": 1
        }
      ],
      "source": [
        "import requests\n",
        "from bs4 import BeautifulSoup\n",
        "\n",
        "url = 'https://www.ptt.cc/bbs/Gossiping/index.html'\n",
        "response = requests.get(url)\n",
        "response.status_code #確認是否拿到資料\n",
        "\n",
        "#200表示成功獲取資料\n"
      ]
    },
    {
      "cell_type": "code",
      "source": [
        "soup = BeautifulSoup(response.text, 'lxml')\n",
        "soup.title"
      ],
      "metadata": {
        "colab": {
          "base_uri": "https://localhost:8080/"
        },
        "id": "i70humvc_UEt",
        "outputId": "0621f674-1ba8-4a5f-fa6f-85213b9aa7c2"
      },
      "execution_count": 2,
      "outputs": [
        {
          "output_type": "execute_result",
          "data": {
            "text/plain": [
              "<title>看板 Gossiping 文章列表 - 批踢踢實業坊</title>"
            ]
          },
          "metadata": {},
          "execution_count": 2
        }
      ]
    },
    {
      "cell_type": "code",
      "source": [
        "for atcl in soup.find_all('div', class_='r-ent'):\n",
        "    ttle = atcl.find('div', class_='title').a.text #div標籤下的class=title\n",
        "    href = 'https://www.ptt.cc' + atcl.find('div', class_='title').a.get('href') #get('href')抓網址\n",
        "    date = atcl.find('div', class_='meta').find('div', class_='date').text #也可以直接atcl.find('div', class_='date').text\n",
        "    print(date, href, ttle)\n"
      ],
      "metadata": {
        "colab": {
          "base_uri": "https://localhost:8080/"
        },
        "id": "_5jf-i0EAmam",
        "outputId": "5675b7c0-8369-4ce9-814a-00bb8cb29ac1"
      },
      "execution_count": 6,
      "outputs": [
        {
          "output_type": "stream",
          "name": "stdout",
          "text": [
            " 3/25 https://www.ptt.cc/bbs/Gossiping/M.1742883696.A.9A9.html [新聞] 國民黨曝：年輕人吹起「台灣人反綠」風\n",
            " 3/25 https://www.ptt.cc/bbs/Gossiping/M.1742883795.A.1AE.html Re: [問卦]亞亞最後絕招是不是只剩公開支持台獨\n",
            " 3/25 https://www.ptt.cc/bbs/Gossiping/M.1742883807.A.F6E.html [問卦] 西班牙、荷蘭、法蘭西要武統台灣會怎樣\n",
            " 3/25 https://www.ptt.cc/bbs/Gossiping/M.1742883822.A.4C0.html Re: [問卦] 沒人發現日本人莫名奇妙就跌落神壇了嗎！\n",
            " 3/25 https://www.ptt.cc/bbs/Gossiping/M.1742883884.A.73B.html Re: [問卦] 有蘋果筆電的人很愛拿出來秀?\n",
            " 3/25 https://www.ptt.cc/bbs/Gossiping/M.1742883900.A.FBE.html [問卦] 孤獨美食家的主角還能吃幾年？\n",
            " 3/25 https://www.ptt.cc/bbs/Gossiping/M.1742883931.A.C09.html Re: [問卦] 捷運上一直咳又不帶口罩有心理疾病嗎\n",
            " 3/25 https://www.ptt.cc/bbs/Gossiping/M.1742883985.A.CC7.html [問卦] 大家有多久沒中過統一發票?\n",
            " 3/25 https://www.ptt.cc/bbs/Gossiping/M.1742883992.A.F82.html [問卦] 蝦皮自取店 櫃位裡有不同人包裹？\n",
            " 3/25 https://www.ptt.cc/bbs/Gossiping/M.1742884007.A.4C2.html [問卦] 太大會叫女友忍一下嗎？\n",
            " 3/25 https://www.ptt.cc/bbs/Gossiping/M.1742884025.A.D1B.html [問卦] 為啥以前老闆不會用即時通辦公\n",
            " 3/25 https://www.ptt.cc/bbs/Gossiping/M.1742884032.A.39F.html [問卦] 多喝水真的有益身體健康嗎？  \n",
            " 3/25 https://www.ptt.cc/bbs/Gossiping/M.1742884046.A.B69.html [問卦] 羅傑的巔峰是在第一集嗎\n",
            " 3/25 https://www.ptt.cc/bbs/Gossiping/M.1742884077.A.79A.html [問卦] 行人專用號誌是萬靈丹嗎\n",
            "11/02 https://www.ptt.cc/bbs/Gossiping/M.1730554547.A.41C.html Fw: [公告] 請留意新註冊帳號使用信件詐騙\n",
            " 1/21 https://www.ptt.cc/bbs/Gossiping/M.1737398137.A.644.html [公告] 八卦板板規(2025.01.21)\n",
            " 2/20 https://www.ptt.cc/bbs/Gossiping/M.1740024219.A.1EB.html [公告]  春季大反攻！！八卦板主徵選報名開始捏\n",
            " 3/12 https://www.ptt.cc/bbs/Gossiping/M.1741791500.A.EB6.html Fw: [公告] 請避免與登入1次之帳號進行交易 發錢\n"
          ]
        }
      ]
    },
    {
      "cell_type": "code",
      "source": [
        "'https://www.ptt.cc' + soup.find_all('a',class_='btn wide')[1].get('href')"
      ],
      "metadata": {
        "colab": {
          "base_uri": "https://localhost:8080/",
          "height": 36
        },
        "id": "61qMCp2xC4MW",
        "outputId": "a56720ac-473c-4b4f-8c31-30c6de218ae3"
      },
      "execution_count": 7,
      "outputs": [
        {
          "output_type": "execute_result",
          "data": {
            "text/plain": [
              "'https://www.ptt.cc/bbs/Gossiping/index39041.html'"
            ],
            "application/vnd.google.colaboratory.intrinsic+json": {
              "type": "string"
            }
          },
          "metadata": {},
          "execution_count": 7
        }
      ]
    },
    {
      "cell_type": "code",
      "source": [
        "def get_articles(url):\n",
        "  response = requests.get(url)\n",
        "  soup = BeautifulSoup(response.text, 'lxml')\n",
        "  for atcl in soup.find_all('div', class_='r-ent'):\n",
        "    if atcl.find('div', class_='title').a: #判斷內容是否還存在\n",
        "      ttle = atcl.find('div', class_='title').a.text #div標籤下的class=title\n",
        "      href = 'https://www.ptt.cc' + atcl.find('div', class_='title').a.get('href') #get('href')抓網址\n",
        "    else:\n",
        "      ttle = atcl.find('div', class_='title').text\n",
        "      href = ''\n",
        "    date = atcl.find('div', class_='meta').find('div', class_='date').text #也可以直接atcl.find('div', class_='date').text\n",
        "    print(date, href, ttle)\n",
        "  url = 'https://www.ptt.cc' + soup.find_all('a',class_='btn wide')[1].get('href')\n",
        "  return url\n",
        "url = 'https://www.ptt.cc/bbs/Gossiping/index.html'\n",
        "for i in range(5):\n",
        "  url = get_articles(url)\n",
        "\n",
        "\n"
      ],
      "metadata": {
        "colab": {
          "base_uri": "https://localhost:8080/"
        },
        "id": "Rbr1ErO9EAbr",
        "outputId": "c38e3018-3119-4376-9526-6534959edae4"
      },
      "execution_count": 10,
      "outputs": [
        {
          "output_type": "stream",
          "name": "stdout",
          "text": [
            " 3/25 https://www.ptt.cc/bbs/Gossiping/M.1742885099.A.2F5.html Re: [問卦]亞亞最後絕招是不是只剩公開支持台獨\n",
            " 3/25 https://www.ptt.cc/bbs/Gossiping/M.1742885188.A.A08.html [問卦] 中國政府真的很有錢！！\n",
            " 3/25 https://www.ptt.cc/bbs/Gossiping/M.1742885222.A.0A1.html [問卦] 還有人記得假電子發票和假環保袋嗎？\n",
            " 3/25 https://www.ptt.cc/bbs/Gossiping/M.1742885280.A.129.html Re: [新聞] 「胖一點」能抗癌？醫證實：存活率比\n",
            " 3/25 https://www.ptt.cc/bbs/Gossiping/M.1742885375.A.F7E.html [新聞] 快訊／東京地方法院下令「統一教」解散！\n",
            " 3/25 https://www.ptt.cc/bbs/Gossiping/M.1742885408.A.CDC.html [問卦] 台灣9年來沒什麼變？\n",
            " 3/25 https://www.ptt.cc/bbs/Gossiping/M.1742885457.A.2BC.html [新聞] 近三年預售屋賣約5.4兆元 業者：未來房\n",
            " 3/25 https://www.ptt.cc/bbs/Gossiping/M.1742885463.A.29C.html Re: [問卦] 華爾街日報：中國準備封鎖台灣？\n",
            " 3/25 https://www.ptt.cc/bbs/Gossiping/M.1742885538.A.A9C.html [問卦] 吃到飽店員會不會很討厭只點同一樣東西的\n",
            " 3/25 https://www.ptt.cc/bbs/Gossiping/M.1742885551.A.EEE.html Re: [問卦] 在中國宣揚台獨會怎麼樣\n",
            " 3/25 https://www.ptt.cc/bbs/Gossiping/M.1742885572.A.490.html [問卦] 物價飆漲後，行情變得好亂\n",
            " 3/25 https://www.ptt.cc/bbs/Gossiping/M.1742885610.A.DF3.html [問卦] 要是亞亞自殺的話 你各位都是殺人兇手\n",
            " 3/25 https://www.ptt.cc/bbs/Gossiping/M.1742885643.A.D0D.html [新聞] 首購悲歌！千萬元內建案行政區剩9個 專家\n",
            " 3/25 https://www.ptt.cc/bbs/Gossiping/M.1742885648.A.49F.html [問卦] 亞亞是誰 很重要嗎？\n",
            " 3/25 https://www.ptt.cc/bbs/Gossiping/M.1742885764.A.432.html [問卦] 台灣水價是不是真的非常的便宜？？\n",
            " 3/25 https://www.ptt.cc/bbs/Gossiping/M.1742885770.A.7A3.html [問卦] 其實吃到飽吃太多真的會被黑名單嗎\n",
            " 3/25 https://www.ptt.cc/bbs/Gossiping/M.1742885792.A.14A.html [問卦] 有沒有換位置換腦袋怎麼調適的卦\n",
            " 3/25 https://www.ptt.cc/bbs/Gossiping/M.1742885895.A.7D9.html [問卦] 宣揚五筒跟包大陸二奶哪個嚴重\n",
            "11/02 https://www.ptt.cc/bbs/Gossiping/M.1730554547.A.41C.html Fw: [公告] 請留意新註冊帳號使用信件詐騙\n",
            " 1/21 https://www.ptt.cc/bbs/Gossiping/M.1737398137.A.644.html [公告] 八卦板板規(2025.01.21)\n",
            " 2/20 https://www.ptt.cc/bbs/Gossiping/M.1740024219.A.1EB.html [公告]  春季大反攻！！八卦板主徵選報名開始捏\n",
            " 3/12 https://www.ptt.cc/bbs/Gossiping/M.1741791500.A.EB6.html Fw: [公告] 請避免與登入1次之帳號進行交易 發錢\n",
            " 3/25 https://www.ptt.cc/bbs/Gossiping/M.1742884284.A.D53.html Re: [新聞] 快訊／大逆轉！借派出所臨停挨轟耍特權\n",
            " 3/25 https://www.ptt.cc/bbs/Gossiping/M.1742884296.A.218.html [新聞] 很忙！出席藍罷團「地動刪瑤」總部　朱\n",
            " 3/25 https://www.ptt.cc/bbs/Gossiping/M.1742884313.A.69C.html [問卦] 哪時候才會重視工安？\n",
            " 3/25 https://www.ptt.cc/bbs/Gossiping/M.1742884342.A.EC0.html [問卦] 劍湖山484快不行了？\n",
            " 3/25 https://www.ptt.cc/bbs/Gossiping/M.1742884344.A.276.html [問卦] 喜歡泰國妹勝於日本妹正常嗎？\n",
            " 3/25 https://www.ptt.cc/bbs/Gossiping/M.1742884380.A.B52.html [問卦] 關稅戰開始了嗎\n",
            " 3/25 https://www.ptt.cc/bbs/Gossiping/M.1742884399.A.4EC.html [問卦] 常把財富自由掛在嘴邊的工作有哪些？\n",
            " 3/25 https://www.ptt.cc/bbs/Gossiping/M.1742884476.A.0C3.html [問卦] 謝祖武這輩子有沒有演過一個知名律師角色\n",
            " 3/25 https://www.ptt.cc/bbs/Gossiping/M.1742884535.A.5BE.html Re: [問卦] 亞亞的老公會不會不是小孩的生父？\n",
            " 3/25 https://www.ptt.cc/bbs/Gossiping/M.1742884576.A.FBB.html [問卦] 如果一陣子沒中國新聞會怎樣\n",
            " 3/25 https://www.ptt.cc/bbs/Gossiping/M.1742884684.A.C5E.html [新聞] 離台倒數！亞亞拒絕出境　移民署將強制\n",
            " 3/25 https://www.ptt.cc/bbs/Gossiping/M.1742884684.A.D91.html [問卦] 為什麼分享美食要放假臉\n",
            " 3/25 https://www.ptt.cc/bbs/Gossiping/M.1742884765.A.91D.html [問卦] 統整一下現在各地雞排都多少？\n",
            " 3/25 https://www.ptt.cc/bbs/Gossiping/M.1742884847.A.6AC.html [問卦] 現下要怎麼省錢又吃出健康？\n",
            " 3/25 https://www.ptt.cc/bbs/Gossiping/M.1742884919.A.4AB.html Re: [問卦] 兩岸戰爭 不靠美國台灣要如何才守得住？\n",
            " 3/25 https://www.ptt.cc/bbs/Gossiping/M.1742884935.A.6E3.html [問卦] 甲片影劇為何台灣拍不贏泰國\n",
            " 3/25 https://www.ptt.cc/bbs/Gossiping/M.1742884965.A.673.html [問卦] 金秀賢上台做什麼才能洗白？\n",
            " 3/25 https://www.ptt.cc/bbs/Gossiping/M.1742884967.A.2D9.html [問卦] 讀復興中學的都是非富即貴嗎？\n",
            " 3/25 https://www.ptt.cc/bbs/Gossiping/M.1742885022.A.0A7.html [問卦] 在中國宣揚台獨會怎麼樣\n",
            " 3/25 https://www.ptt.cc/bbs/Gossiping/M.1742885050.A.860.html [問卦] 女生要是太緊 叫你憋一下先別射該怎辦?\n",
            " 3/25 https://www.ptt.cc/bbs/Gossiping/M.1742883696.A.9A9.html [新聞] 國民黨曝：年輕人吹起「台灣人反綠」風\n",
            " 3/25  \n",
            "\t\t\t\n",
            "\t\t\t\t(本文已被刪除) [ar0387959310]\n",
            "\t\t\t\n",
            "\t\t\t\n",
            " 3/25 https://www.ptt.cc/bbs/Gossiping/M.1742883807.A.F6E.html [問卦] 西班牙、荷蘭、法蘭西要武統台灣會怎樣\n",
            " 3/25 https://www.ptt.cc/bbs/Gossiping/M.1742883822.A.4C0.html Re: [問卦] 沒人發現日本人莫名奇妙就跌落神壇了嗎！\n",
            " 3/25 https://www.ptt.cc/bbs/Gossiping/M.1742883884.A.73B.html Re: [問卦] 有蘋果筆電的人很愛拿出來秀?\n",
            " 3/25 https://www.ptt.cc/bbs/Gossiping/M.1742883900.A.FBE.html [問卦] 孤獨美食家的主角還能吃幾年？\n",
            " 3/25 https://www.ptt.cc/bbs/Gossiping/M.1742883931.A.C09.html Re: [問卦] 捷運上一直咳又不帶口罩有心理疾病嗎\n",
            " 3/25 https://www.ptt.cc/bbs/Gossiping/M.1742883985.A.CC7.html [問卦] 大家有多久沒中過統一發票?\n",
            " 3/25 https://www.ptt.cc/bbs/Gossiping/M.1742883992.A.F82.html [問卦] 蝦皮自取店 櫃位裡有不同人包裹？\n",
            " 3/25 https://www.ptt.cc/bbs/Gossiping/M.1742884007.A.4C2.html [問卦] 太大會叫女友忍一下嗎？\n",
            " 3/25 https://www.ptt.cc/bbs/Gossiping/M.1742884025.A.D1B.html [問卦] 為啥以前老闆不會用即時通辦公\n",
            " 3/25 https://www.ptt.cc/bbs/Gossiping/M.1742884032.A.39F.html [問卦] 多喝水真的有益身體健康嗎？  \n",
            " 3/25 https://www.ptt.cc/bbs/Gossiping/M.1742884046.A.B69.html [問卦] 羅傑的巔峰是在第一集嗎\n",
            " 3/25 https://www.ptt.cc/bbs/Gossiping/M.1742884077.A.79A.html [問卦] 行人專用號誌是萬靈丹嗎\n",
            " 3/25 https://www.ptt.cc/bbs/Gossiping/M.1742884123.A.F23.html [新聞] 槓陸配亞亞！　八炯、閩南狼衝內政部「\n",
            " 3/25 https://www.ptt.cc/bbs/Gossiping/M.1742884191.A.262.html Re: [新聞] 藍提反廢死反戒嚴公投 卓榮泰盼能停止就\n",
            " 3/25 https://www.ptt.cc/bbs/Gossiping/M.1742884200.A.9B0.html [問卦] 想對發票但還在上班\n",
            " 3/25 https://www.ptt.cc/bbs/Gossiping/M.1742884201.A.5F0.html [問卦] 找越南妹當老婆要花多少錢\n",
            " 3/25 https://www.ptt.cc/bbs/Gossiping/M.1742884239.A.51A.html [問卦] 兩岸戰爭 不靠美國台灣要如何才守得住？\n",
            " 3/25 https://www.ptt.cc/bbs/Gossiping/M.1742884264.A.37D.html Re: [問卦] 日本最大的陵墓埋的是中國人呀\n",
            " 3/25 https://www.ptt.cc/bbs/Gossiping/M.1742882626.A.CE1.html [問卦] 挺亞亞就是挺武統\n",
            " 3/25 https://www.ptt.cc/bbs/Gossiping/M.1742882668.A.526.html [問卦] 捷運上一直咳又不帶口罩有心理疾病嗎\n",
            " 3/25 https://www.ptt.cc/bbs/Gossiping/M.1742882687.A.DEF.html Re: [爆卦] 啞啞的先生是假的？\n",
            " 3/25 https://www.ptt.cc/bbs/Gossiping/M.1742882722.A.82A.html [新聞] 反惡罷闢謠網站上線！國民黨：年輕人吹起\n",
            " 3/25 https://www.ptt.cc/bbs/Gossiping/M.1742882753.A.B4B.html [問卦] 女同事會知道男同事都看她照片尻嗎？\n",
            " 3/25 https://www.ptt.cc/bbs/Gossiping/M.1742882932.A.B9F.html [問卦] 為什麼統一發票APP要三點十分才公布得獎\n",
            " 3/25 https://www.ptt.cc/bbs/Gossiping/M.1742882957.A.813.html [問卦] 創業開自助餐店成本怎麼抓？\n",
            " 3/25 https://www.ptt.cc/bbs/Gossiping/M.1742883011.A.73A.html [新聞] 藍提反廢死反戒嚴公投 卓榮泰盼能停止就\n",
            " 3/25 https://www.ptt.cc/bbs/Gossiping/M.1742883012.A.DE8.html [問卦] 誇張！前市長被總統羈押？被指控貪汙？\n",
            " 3/25 https://www.ptt.cc/bbs/Gossiping/M.1742883014.A.1D4.html [問卦] 有蘋果筆電的人很愛拿出來秀?\n",
            " 3/25 https://www.ptt.cc/bbs/Gossiping/M.1742883021.A.E4F.html [問卦] 2025年圓環還有紅綠燈根本弱智吧\n",
            " 3/25 https://www.ptt.cc/bbs/Gossiping/M.1742883191.A.AED.html [問卦] 反對普發的都是什麼人\n",
            " 3/25 https://www.ptt.cc/bbs/Gossiping/M.1742883214.A.27D.html [問卦]亞亞最後絕招是不是只剩公開支持台獨\n",
            " 3/25 https://www.ptt.cc/bbs/Gossiping/M.1742883364.A.069.html [問卦] 有沒有土耳其船型披薩Pide的八卦？\n",
            " 3/25 https://www.ptt.cc/bbs/Gossiping/M.1742883446.A.240.html [問卦] 離境日不買機票是不是計畫通\n",
            " 3/25 https://www.ptt.cc/bbs/Gossiping/M.1742883454.A.375.html [新聞] 20共機逾越海峽中線6共艦擾台 國軍嚴密\n",
            " 3/25 https://www.ptt.cc/bbs/Gossiping/M.1742883502.A.253.html [問卦] 「統一發票」領獎的人是不是中共同路人?\n",
            " 3/25 https://www.ptt.cc/bbs/Gossiping/M.1742883567.A.58B.html [新聞] 汐止警為求績效匯款給藥頭　供毒品給少年\n",
            " 3/25 https://www.ptt.cc/bbs/Gossiping/M.1742883609.A.86A.html [問卦] 北川景子最強的時候是帥哥西裝嗎？\n",
            " 3/25 https://www.ptt.cc/bbs/Gossiping/M.1742883616.A.C25.html Re: [新聞] 65%支持普發現金 白推普發6千餘補健保\n",
            " 3/25 https://www.ptt.cc/bbs/Gossiping/M.1742881581.A.FD1.html [問卦] 現在是不是八卦板最團結的時刻？\n",
            " 3/25 https://www.ptt.cc/bbs/Gossiping/M.1742881601.A.DEF.html [問卦]富邦啦啦隊長得都很像亞亞\n",
            " 3/25 https://www.ptt.cc/bbs/Gossiping/M.1742881606.A.F34.html [問卦] 網路陸配打嘴炮 需要去驅離嗎？\n",
            " 3/25 https://www.ptt.cc/bbs/Gossiping/M.1742881613.A.B9D.html [問卦] 全家茶葉蛋憑什麼不降回$10？\n",
            " 3/25 https://www.ptt.cc/bbs/Gossiping/M.1742881697.A.57F.html [新聞] 65%支持普發現金 白推普發6千餘補健保\n",
            " 3/25 https://www.ptt.cc/bbs/Gossiping/M.1742881699.A.CDB.html Re: [問卦] 亞亞逃逸不就好了\n",
            " 3/25 https://www.ptt.cc/bbs/Gossiping/M.1742881766.A.3BF.html [問卦] 藍牙耳機每次到古亭就斷線\n",
            " 3/25 https://www.ptt.cc/bbs/Gossiping/M.1742881803.A.8B6.html Re: [問卦] 母雞卡是大爛片嗎\n",
            " 3/25 https://www.ptt.cc/bbs/Gossiping/M.1742881859.A.16D.html [問卦] 日本最大的陵墓埋的是中國人呀\n",
            " 3/25 https://www.ptt.cc/bbs/Gossiping/M.1742881904.A.B4C.html [爆卦] 啞啞的先生是假的？\n",
            " 3/25 https://www.ptt.cc/bbs/Gossiping/M.1742881962.A.44A.html [問卦] 台灣看獸醫很貴的八卦??\n",
            " 3/25 https://www.ptt.cc/bbs/Gossiping/M.1742882039.A.57E.html [新聞] 陸網、台人 都罵翻！亞亞 認 裡外不是人\n",
            " 3/25 https://www.ptt.cc/bbs/Gossiping/M.1742882051.A.369.html [問卦] 亞亞如果自焚抗議可以反轉風向嗎？\n",
            " 3/25 https://www.ptt.cc/bbs/Gossiping/M.1742882171.A.E24.html [新聞] 臨停警用車格遭趕！彰化議員嗆「惹到母老\n",
            " 3/25 https://www.ptt.cc/bbs/Gossiping/M.1742882191.A.D91.html [問卦] 慟! 1、2月統一發票開獎了大家中多少?\n",
            " 3/25 https://www.ptt.cc/bbs/Gossiping/M.1742882194.A.511.html Re: [新聞] 陸配「亞亞」明強制離境　趙少康痛批\n",
            " 3/25 https://www.ptt.cc/bbs/Gossiping/M.1742882210.A.9B1.html [問卦] 美國人是不是很辛苦\n",
            " 3/25  \n",
            "\t\t\t\n",
            "\t\t\t\t(本文已被刪除) [simon301]\n",
            "\t\t\t\n",
            "\t\t\t\n",
            " 3/25 https://www.ptt.cc/bbs/Gossiping/M.1742882592.A.629.html [問卦] 啞啞老公是有用的人嗎？\n",
            " 3/25 https://www.ptt.cc/bbs/Gossiping/M.1742882611.A.89E.html Re: [問卦] 支持台灣成為美國一州 言論有犯法嗎？\n"
          ]
        }
      ]
    }
  ]
}