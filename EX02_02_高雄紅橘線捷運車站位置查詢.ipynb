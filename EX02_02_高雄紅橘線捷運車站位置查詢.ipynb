{
  "nbformat": 4,
  "nbformat_minor": 0,
  "metadata": {
    "colab": {
      "provenance": [],
      "authorship_tag": "ABX9TyMYctbkXr9UUAkW8TEdmNyA",
      "include_colab_link": true
    },
    "kernelspec": {
      "name": "python3",
      "display_name": "Python 3"
    },
    "language_info": {
      "name": "python"
    }
  },
  "cells": [
    {
      "cell_type": "markdown",
      "metadata": {
        "id": "view-in-github",
        "colab_type": "text"
      },
      "source": [
        "<a href=\"https://colab.research.google.com/github/nicc0614/2025.02.18/blob/main/EX02_02_%E9%AB%98%E9%9B%84%E7%B4%85%E6%A9%98%E7%B7%9A%E6%8D%B7%E9%81%8B%E8%BB%8A%E7%AB%99%E4%BD%8D%E7%BD%AE%E6%9F%A5%E8%A9%A2.ipynb\" target=\"_parent\"><img src=\"https://colab.research.google.com/assets/colab-badge.svg\" alt=\"Open In Colab\"/></a>"
      ]
    },
    {
      "cell_type": "code",
      "source": [
        "import requests\n",
        "url = 'https://data.kcg.gov.tw/dataset/2629db6d-98ec-4b24-8ab1-5dc34d998460/resource/662f822c-632b-4cb3-80f6-b5ac053d210b/download/11311.json'\n",
        "response = requests.get(url)\n",
        "response.status_code\n"
      ],
      "metadata": {
        "colab": {
          "base_uri": "https://localhost:8080/"
        },
        "id": "AATtmI04KAbn",
        "outputId": "8a038779-5ed7-43c3-f68a-4b251e54ff2d"
      },
      "execution_count": 25,
      "outputs": [
        {
          "output_type": "execute_result",
          "data": {
            "text/plain": [
              "200"
            ]
          },
          "metadata": {},
          "execution_count": 25
        }
      ]
    },
    {
      "cell_type": "code",
      "source": [
        "!pip install gradio -q"
      ],
      "metadata": {
        "colab": {
          "base_uri": "https://localhost:8080/"
        },
        "id": "eF22uwcUOkfN",
        "outputId": "cc3a116c-615a-4972-e22e-b3e2c3418dab"
      },
      "execution_count": 22,
      "outputs": [
        {
          "output_type": "stream",
          "name": "stdout",
          "text": [
            "\u001b[2K   \u001b[90m━━━━━━━━━━━━━━━━━━━━━━━━━━━━━━━━━━━━━━━━\u001b[0m \u001b[32m62.3/62.3 MB\u001b[0m \u001b[31m10.9 MB/s\u001b[0m eta \u001b[36m0:00:00\u001b[0m\n",
            "\u001b[2K   \u001b[90m━━━━━━━━━━━━━━━━━━━━━━━━━━━━━━━━━━━━━━━━\u001b[0m \u001b[32m322.1/322.1 kB\u001b[0m \u001b[31m16.2 MB/s\u001b[0m eta \u001b[36m0:00:00\u001b[0m\n",
            "\u001b[2K   \u001b[90m━━━━━━━━━━━━━━━━━━━━━━━━━━━━━━━━━━━━━━━━\u001b[0m \u001b[32m94.9/94.9 kB\u001b[0m \u001b[31m5.5 MB/s\u001b[0m eta \u001b[36m0:00:00\u001b[0m\n",
            "\u001b[2K   \u001b[90m━━━━━━━━━━━━━━━━━━━━━━━━━━━━━━━━━━━━━━━━\u001b[0m \u001b[32m11.3/11.3 MB\u001b[0m \u001b[31m65.7 MB/s\u001b[0m eta \u001b[36m0:00:00\u001b[0m\n",
            "\u001b[2K   \u001b[90m━━━━━━━━━━━━━━━━━━━━━━━━━━━━━━━━━━━━━━━━\u001b[0m \u001b[32m72.0/72.0 kB\u001b[0m \u001b[31m4.2 MB/s\u001b[0m eta \u001b[36m0:00:00\u001b[0m\n",
            "\u001b[2K   \u001b[90m━━━━━━━━━━━━━━━━━━━━━━━━━━━━━━━━━━━━━━━━\u001b[0m \u001b[32m62.3/62.3 kB\u001b[0m \u001b[31m4.2 MB/s\u001b[0m eta \u001b[36m0:00:00\u001b[0m\n",
            "\u001b[?25h\u001b[31mERROR: pip's dependency resolver does not currently take into account all the packages that are installed. This behaviour is the source of the following dependency conflicts.\n",
            "torch 2.5.1+cu124 requires nvidia-cublas-cu12==12.4.5.8; platform_system == \"Linux\" and platform_machine == \"x86_64\", but you have nvidia-cublas-cu12 12.5.3.2 which is incompatible.\n",
            "torch 2.5.1+cu124 requires nvidia-cuda-cupti-cu12==12.4.127; platform_system == \"Linux\" and platform_machine == \"x86_64\", but you have nvidia-cuda-cupti-cu12 12.5.82 which is incompatible.\n",
            "torch 2.5.1+cu124 requires nvidia-cuda-nvrtc-cu12==12.4.127; platform_system == \"Linux\" and platform_machine == \"x86_64\", but you have nvidia-cuda-nvrtc-cu12 12.5.82 which is incompatible.\n",
            "torch 2.5.1+cu124 requires nvidia-cuda-runtime-cu12==12.4.127; platform_system == \"Linux\" and platform_machine == \"x86_64\", but you have nvidia-cuda-runtime-cu12 12.5.82 which is incompatible.\n",
            "torch 2.5.1+cu124 requires nvidia-cudnn-cu12==9.1.0.70; platform_system == \"Linux\" and platform_machine == \"x86_64\", but you have nvidia-cudnn-cu12 9.3.0.75 which is incompatible.\n",
            "torch 2.5.1+cu124 requires nvidia-cufft-cu12==11.2.1.3; platform_system == \"Linux\" and platform_machine == \"x86_64\", but you have nvidia-cufft-cu12 11.2.3.61 which is incompatible.\n",
            "torch 2.5.1+cu124 requires nvidia-curand-cu12==10.3.5.147; platform_system == \"Linux\" and platform_machine == \"x86_64\", but you have nvidia-curand-cu12 10.3.6.82 which is incompatible.\n",
            "torch 2.5.1+cu124 requires nvidia-cusolver-cu12==11.6.1.9; platform_system == \"Linux\" and platform_machine == \"x86_64\", but you have nvidia-cusolver-cu12 11.6.3.83 which is incompatible.\n",
            "torch 2.5.1+cu124 requires nvidia-cusparse-cu12==12.3.1.170; platform_system == \"Linux\" and platform_machine == \"x86_64\", but you have nvidia-cusparse-cu12 12.5.1.3 which is incompatible.\n",
            "torch 2.5.1+cu124 requires nvidia-nvjitlink-cu12==12.4.127; platform_system == \"Linux\" and platform_machine == \"x86_64\", but you have nvidia-nvjitlink-cu12 12.5.82 which is incompatible.\u001b[0m\u001b[31m\n",
            "\u001b[0m"
          ]
        }
      ]
    },
    {
      "cell_type": "code",
      "source": [
        "stats = response.json()"
      ],
      "metadata": {
        "id": "WM5XZMP5Kf_t"
      },
      "execution_count": 26,
      "outputs": []
    },
    {
      "cell_type": "code",
      "source": [
        "import csv\n",
        "wtr = []\n",
        "wtr.append(list(stats[0].keys()))\n",
        "for it in stats:\n",
        "    wtr.append(list(it.values()))\n",
        "with open('stats.csv', 'w', newline='') as f:\n",
        "    writer = csv.writer(f)\n",
        "    writer.writerows(wtr)"
      ],
      "metadata": {
        "id": "yz9hV180K7ud"
      },
      "execution_count": 27,
      "outputs": []
    },
    {
      "cell_type": "code",
      "source": [
        "import csv\n",
        "with open('stats.csv', 'r', newline='') as file:\n",
        "    reader = csv.reader(file)\n",
        "    stats = list(reader)\n",
        "print(stats)\n",
        ""
      ],
      "metadata": {
        "colab": {
          "base_uri": "https://localhost:8080/"
        },
        "id": "QeadgNFDL0dr",
        "outputId": "068e0856-bcda-47e3-cc2a-3b8904fe9cc5"
      },
      "execution_count": 28,
      "outputs": [
        {
          "output_type": "stream",
          "name": "stdout",
          "text": [
            "[['seq', '車站編號', '車站中文名稱', '車站英文名稱', 'Latitude', 'Longitude'], ['1', 'R3', '小港', 'Siaogang', '22.56481191', '120.3538521'], ['2', 'R4', '高雄國際機場', 'Kaohsiung International Airport', '22.57011232', '120.3421469'], ['3', 'R4A', '草衙', 'Caoya', '22.58035095', '120.3284408'], ['4', 'R5', '前鎮高中', 'Cianjhen Senior High School', '22.58853833', '120.3219713'], ['5', 'R6', '凱旋', 'Kaisyuan', '22.59683914', '120.3151478'], ['6', 'R7', '獅甲', 'Shihjia', '22.60583276', '120.307702'], ['7', 'R8', '三多商圈', 'Sanduo Shopping District', '22.61383541', '120.3046764'], ['8', 'R9', '中央公園', 'Central Park', '22.6245709', '120.3006424'], ['9', 'R10', '美麗島', 'Formosa Boulevard', '22.631386', '120.301951'], ['10', 'R11', '高雄車站', 'Kaohsiung Main Station', '22.63966255', '120.3027023'], ['11', 'R12', '後驛', 'Houyi', '22.64829692', '120.3033675'], ['12', 'R13', '凹子底', 'Aozaidi', '22.65718817', '120.3030886'], ['13', 'R14', '巨蛋', 'Kaohsiung Arena', '22.66657386', '120.3028955'], ['14', 'R15', '生態園區', 'Ecological District', '22.67681026', '120.3066935'], ['15', 'R16', '左營', 'Zuoying', '22.68801596', '120.3095473'], ['16', 'R17', '世運', 'World Games', '22.70217026', '120.3025307'], ['17', 'R18', '油廠國小', 'Oil Refinery Elementary School', '22.70848479', '120.3023161'], ['18', 'R19', '楠梓科技園區', 'Nanzih Technology Industrial Park', '22.71863888', '120.3072728'], ['19', 'R20', '後勁', 'Houjing', '22.72291407', '120.3163923'], ['20', 'R21', '都會公園', 'Metropolitan Park', '22.72932659', '120.3210486'], ['21', 'R22', '青埔', 'Cingpu', '22.74466397', '120.3177012'], ['22', 'R22A', '橋頭糖廠', 'Ciaotou Sugar Refinery', '22.75339067', '120.3146113'], ['23', 'R23', '橋頭火車站', 'Ciaotou Station', '22.76045473', '120.310985'], ['24', 'R24', '岡山高醫', 'Kaohsiung Medical University Gangshan Hospital', '22.78058', '120.30165'], ['25', 'O1', '哈瑪星', 'Hamasen', '22.62154049', '120.2745284'], ['26', 'O2', '鹽埕埔', 'Yanchengpu', '22.62350135', '120.2837767'], ['27', 'O4', '前金', 'Cianjin', '22.62898766', '120.2949347'], ['28', 'O5', '美麗島', 'Formosa Boulevard', '22.631386', '120.301951'], ['29', 'O6', '信義國小', 'Sinyi Elementary School', '22.63073055', '120.3116502'], ['30', 'O7', '文化中心', 'Cultual Center', '22.63039386', '120.3174438'], ['31', 'O8', '五塊厝', 'Wukuaicuo', '22.62952241', '120.3277005'], ['32', 'O9', '苓雅運動園區', 'Lingya Sports Park', '22.62722493', '120.3346313'], ['33', 'O10', '衛武營', 'Weiwuying', '22.62508586', '120.3410901'], ['34', 'O11', '鳳山西站', 'Fongshan West', '22.62530373', '120.3483428'], ['35', 'O12', '鳳山', 'Fongshan', '22.62597715', '120.3553595'], ['36', 'O13', '大東', 'Dadong', '22.62538296', '120.3632344'], ['37', 'O14', '鳳山國中', 'Fongshan Junior High School', '22.6248878', '120.3724827'], ['38', 'OT1', '大寮', 'Daliao', '22.62239218', '120.389799'], ['39', 'O5/R10', '美麗島', 'Formosa Boulevard', '22.631386', '120.301951']]\n"
          ]
        }
      ]
    },
    {
      "cell_type": "code",
      "source": [
        "import gradio as gr\n",
        "def stat_info(id):\n",
        "  info = ''\n",
        "  for it in stats[1:]:\n",
        "    if it[1] == id:\n",
        "      info = f'車站編號:{it[1]}\\n中文名稱:{it[2]}\\n英文名稱:{it[3]}'\n",
        "      html = get_html(it[4],it[5])\n",
        "  return info, html\n",
        "\n",
        "def get_html(lat,lon):\n",
        "  lat = float(lat)\n",
        "  lon = float(lon)\n",
        "  html = f'''\n",
        "  <div style=\"width: 100%; height: 400px;\">\n",
        "  <iframe\n",
        "      width=\"100%\"\n",
        "      height=\"100%\"\n",
        "      frameborder=\"0\"\n",
        "      scrolling=\"no\"\n",
        "      marginheight=\"0\"\n",
        "      marginwidth=\"0\"\n",
        "      src=\"https://www.openstreetmap.org/export/embed.html?bbox={lon-0.01}%2C{lat-0.01}%2C{lon+0.01}%2C{lat+0.01}&layer=mapnik&marker={lat}%2C{lon}\">\n",
        "  </iframe>\n",
        "  </div>\n",
        "  '''\n",
        "  return html\n",
        "\n",
        "menu = []\n",
        "for it in stats[1:]:\n",
        "  menu.append(it[1])\n",
        "\n",
        "gr.Interface(\n",
        "    fn = stat_info,\n",
        "    inputs = gr.Dropdown(choices = menu, label = '車站編號:'),\n",
        "    outputs = [gr.Textbox(label = '車站資訊:'),gr.HTML(label='車站地圖')]\n",
        ").launch()"
      ],
      "metadata": {
        "colab": {
          "base_uri": "https://localhost:8080/",
          "height": 646
        },
        "id": "WEDXqtgZMoF3",
        "outputId": "c77114d9-aad3-4ffa-fea6-fb4a95cca80b"
      },
      "execution_count": 37,
      "outputs": [
        {
          "output_type": "stream",
          "name": "stdout",
          "text": [
            "Running Gradio in a Colab notebook requires sharing enabled. Automatically setting `share=True` (you can turn this off by setting `share=False` in `launch()` explicitly).\n",
            "\n",
            "Colab notebook detected. To show errors in colab notebook, set debug=True in launch()\n",
            "* Running on public URL: https://cf1040fc2dac650400.gradio.live\n",
            "\n",
            "This share link expires in 72 hours. For free permanent hosting and GPU upgrades, run `gradio deploy` from the terminal in the working directory to deploy to Hugging Face Spaces (https://huggingface.co/spaces)\n"
          ]
        },
        {
          "output_type": "display_data",
          "data": {
            "text/plain": [
              "<IPython.core.display.HTML object>"
            ],
            "text/html": [
              "<div><iframe src=\"https://cf1040fc2dac650400.gradio.live\" width=\"100%\" height=\"500\" allow=\"autoplay; camera; microphone; clipboard-read; clipboard-write;\" frameborder=\"0\" allowfullscreen></iframe></div>"
            ]
          },
          "metadata": {}
        },
        {
          "output_type": "execute_result",
          "data": {
            "text/plain": []
          },
          "metadata": {},
          "execution_count": 37
        }
      ]
    }
  ]
}