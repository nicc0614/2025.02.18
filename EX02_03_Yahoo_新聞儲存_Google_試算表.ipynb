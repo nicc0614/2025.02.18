{
  "nbformat": 4,
  "nbformat_minor": 0,
  "metadata": {
    "colab": {
      "provenance": [],
      "authorship_tag": "ABX9TyPrMp1aeMcBBaehB1z2X7Is",
      "include_colab_link": true
    },
    "kernelspec": {
      "name": "python3",
      "display_name": "Python 3"
    },
    "language_info": {
      "name": "python"
    }
  },
  "cells": [
    {
      "cell_type": "markdown",
      "metadata": {
        "id": "view-in-github",
        "colab_type": "text"
      },
      "source": [
        "<a href=\"https://colab.research.google.com/github/nicc0614/2025.02.18/blob/main/EX02_03_Yahoo_%E6%96%B0%E8%81%9E%E5%84%B2%E5%AD%98_Google_%E8%A9%A6%E7%AE%97%E8%A1%A8.ipynb\" target=\"_parent\"><img src=\"https://colab.research.google.com/assets/colab-badge.svg\" alt=\"Open In Colab\"/></a>"
      ]
    },
    {
      "cell_type": "code",
      "execution_count": 1,
      "metadata": {
        "colab": {
          "base_uri": "https://localhost:8080/"
        },
        "id": "pwySYBWY5fHN",
        "outputId": "896e5892-a5b0-4df7-8ccd-b98bf8861ddb"
      },
      "outputs": [
        {
          "output_type": "stream",
          "name": "stdout",
          "text": [
            "Collecting feedparser\n",
            "  Downloading feedparser-6.0.11-py3-none-any.whl.metadata (2.4 kB)\n",
            "Collecting sgmllib3k (from feedparser)\n",
            "  Downloading sgmllib3k-1.0.0.tar.gz (5.8 kB)\n",
            "  Preparing metadata (setup.py) ... \u001b[?25l\u001b[?25hdone\n",
            "Downloading feedparser-6.0.11-py3-none-any.whl (81 kB)\n",
            "\u001b[2K   \u001b[90m━━━━━━━━━━━━━━━━━━━━━━━━━━━━━━━━━━━━━━━━\u001b[0m \u001b[32m81.3/81.3 kB\u001b[0m \u001b[31m588.7 kB/s\u001b[0m eta \u001b[36m0:00:00\u001b[0m\n",
            "\u001b[?25hBuilding wheels for collected packages: sgmllib3k\n",
            "  Building wheel for sgmllib3k (setup.py) ... \u001b[?25l\u001b[?25hdone\n",
            "  Created wheel for sgmllib3k: filename=sgmllib3k-1.0.0-py3-none-any.whl size=6047 sha256=90b8ebfbc8fbbbaa03f5456b6dec288faff00b526150d9a12beac5d42d3770d4\n",
            "  Stored in directory: /root/.cache/pip/wheels/3b/25/2a/105d6a15df6914f4d15047691c6c28f9052cc1173e40285d03\n",
            "Successfully built sgmllib3k\n",
            "Installing collected packages: sgmllib3k, feedparser\n",
            "Successfully installed feedparser-6.0.11 sgmllib3k-1.0.0\n"
          ]
        }
      ],
      "source": [
        "!pip install feedparser"
      ]
    },
    {
      "cell_type": "code",
      "source": [
        "import feedparser\n",
        "feed_url = \"https://news.pts.org.tw/xml/newsfeed.xml\"\n",
        "feed_data = feedparser.parse(feed_url)\n",
        "for entry in feed_data.entries[:5]:\n",
        "    print(entry.title)\n",
        "    print(entry.summary)\n",
        "    print(entry.link)\n",
        "    print(\"---\")"
      ],
      "metadata": {
        "colab": {
          "base_uri": "https://localhost:8080/"
        },
        "id": "geugL8Iy9HQx",
        "outputId": "591559eb-52f5-4d17-f82f-8ecf76660f9b"
      },
      "execution_count": 2,
      "outputs": [
        {
          "output_type": "stream",
          "name": "stdout",
          "text": [
            "冷氣團發威多處高山降雪 福壽山農場天池積雪達10公分\n",
            "冷氣團發威，氣象署持續發布低溫特報，今（18）日清晨本島最低溫在苗栗大河8.9℃，包括拉拉山、太平山、合歡山、台東嘉明湖等高山也因為低溫加上水氣充足，一早就出現雪白美景，而受到降雪影響，新竹尖石鄉新光國小宣布停班停課一天。\n",
            "https://news.pts.org.tw/article/742669\n",
            "---\n",
            "北市比特犬兩度咬傷人 產發局：將檢討程序\n",
            "北市文山區6日才發生比特犬跳出車窗外咬傷人的事件，沒想到17日同隻比特犬又在大安區咬人。外界質疑動保處在第一次咬傷人時遲未對飼主開罰，直到昨（17）日才祭出重罰。對此產發局表示已重新檢討程序，務必要在最短時間做出明確處置。市長蔣萬安也下令，要求動保處一定要對飼養比特犬飼主加強安全教育及安全措施。\n",
            "https://news.pts.org.tw/article/742668\n",
            "---\n",
            "台中男子酒駕衝撞人行道 撞破護欄後墜落大排\n",
            "這個（3）月初台中市發生酒駕闖紅燈，造成一名男大生遭撞死亡，台中警方因此舉行3天的酒駕大執法。但今（18）日凌晨再度發生酒駕肇事，一輛轎車高速衝撞人行道後撞破護欄直接掉落麻園頭溪大排，駕駛肋骨骨折受困車內，由消防人員救出送醫。\n",
            "https://news.pts.org.tw/article/742667\n",
            "---\n",
            "刑事局破最大Switch改機案 侵權市值逾1億任天堂提告\n",
            "刑事局偵破全台最大任天堂Switch遊戲機改機案，一名46歲陳姓犯嫌透過網路購買的改機晶片，在臉書推銷改機服務，每台6000到8000元不等，改機後就能讓買家免費下載上萬種遊戲。目前已售出850台改裝機、獲利480萬元，但侵權市值超過1億元，後續依涉犯《著作權法》移送法辦。\n",
            "https://news.pts.org.tw/article/742665\n",
            "---\n",
            "警察抖音自稱中國人、愛祖國 桃園中壢分局稱將嚴查究責\n",
            "中國籍配偶亞亞長期公開發表「武統台灣」、「兩岸統一」等言論，遭移民署廢止依親居留許可、限期離境，陸委會也重申不再讓藝人藉台灣身分混淆視聽或對台統戰。現在又傳出有員警在抖音用簡體字註冊帳號，並自我介紹「我是中國人」，引發熱議，中壢分局表示將嚴查到底，若涉不法將依法究辦。\n",
            "https://news.pts.org.tw/article/742663\n",
            "---\n"
          ]
        }
      ]
    },
    {
      "cell_type": "code",
      "source": [
        "from google.colab import auth\n",
        "from google.auth import default\n",
        "import gspread\n",
        "\n",
        "auth.authenticate_user() # 進行授權\n",
        "creds, _ = default() # 使用 default 方法獲取驗證信息\n",
        "gc = gspread.authorize(creds)\n"
      ],
      "metadata": {
        "id": "PFvcy93e9f6x"
      },
      "execution_count": null,
      "outputs": []
    },
    {
      "cell_type": "code",
      "source": [
        "# 開啟 Google 試算表\n",
        "url = 'https://docs.google.com/spreadsheets/d/1S0yOYgAaYZlGY_XYIvVeu9gdKu6fXaLuMPwSTq2I8vM/edit?gid=0#gid=0'\n",
        "workbook = gc.open_by_url(url)\n",
        "# 獲取工作簿中索引為 0 的工作表，並將其儲存在 sheet 變數中\n",
        "sheet = workbook.get_worksheet(0)\n",
        "# 新增一列資料\n",
        "sheet.append_row(['title','summary','link'])"
      ],
      "metadata": {
        "id": "UAmcN4CN-Xnt"
      },
      "execution_count": null,
      "outputs": []
    },
    {
      "cell_type": "code",
      "source": [],
      "metadata": {
        "id": "tiiSKV5S-6eY"
      },
      "execution_count": null,
      "outputs": []
    }
  ]
}